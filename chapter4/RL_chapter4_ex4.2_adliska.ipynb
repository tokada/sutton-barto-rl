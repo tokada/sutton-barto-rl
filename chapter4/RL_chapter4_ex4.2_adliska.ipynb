{
 "cells": [
  {
   "cell_type": "markdown",
   "metadata": {},
   "source": [
    "# 例4.2「Jackのレンタカー会社」（図4.4）\n",
    "\n",
    "Original Source: https://github.com/adliska/reinforcement_learning/blob/master/Chapter%2004%20Jack's%20Car%20Rental.ipynb"
   ]
  },
  {
   "cell_type": "markdown",
   "metadata": {},
   "source": [
    "Jack's Car Rental is an example first introduced in Chapter 4, Example 4.2 to illustrate *policy iteration*."
   ]
  },
  {
   "cell_type": "markdown",
   "metadata": {},
   "source": [
    "Unfortunately, it's not very well described, with the most confusing part being the limit of 20 on the number of cars at each location, which doesn't seem to apply to the cars that are moved from one location to the other overnight. This means that you can start with at most 25 cars at one location at the start of the business day (in case you closed at one location with 20 cars the day before and had 5 cars moved there overnight)."
   ]
  },
  {
   "cell_type": "code",
   "execution_count": 1,
   "metadata": {
    "collapsed": false
   },
   "outputs": [],
   "source": [
    "import numpy as np\n",
    "import matplotlib as mpl\n",
    "import matplotlib.pyplot as plt\n",
    "import mpl_toolkits.axes_grid1\n",
    "%matplotlib inline\n",
    "import itertools\n",
    "import scipy.stats"
   ]
  },
  {
   "cell_type": "markdown",
   "metadata": {},
   "source": [
    "## Initialization"
   ]
  },
  {
   "cell_type": "code",
   "execution_count": 2,
   "metadata": {
    "collapsed": false
   },
   "outputs": [],
   "source": [
    "# The number of cars we can keep at a single location\n",
    "numcars = 20\n",
    "\n",
    "# Maximum number of cars we can transfer from one location\n",
    "# to the other overnight\n",
    "maxtransfer = 5\n",
    "\n",
    "# Discount rate\n",
    "gamma = 0.9\n",
    "\n",
    "# State value functions\n",
    "V = np.zeros((numcars+1, numcars+1))\n",
    "# Policy\n",
    "pi = np.zeros((numcars+1, numcars+1), dtype=int)"
   ]
  },
  {
   "cell_type": "code",
   "execution_count": 3,
   "metadata": {
    "collapsed": false
   },
   "outputs": [],
   "source": [
    "def probabilities_rewards(l_req, l_ret, numcars, maxtransfer):\n",
    "    # l_req: expected number of requests\n",
    "    # l_ret: expected number of returns\n",
    "    \n",
    "    # ps[x,y]: probability of starting the day with x cars\n",
    "    #          and finishing with y\n",
    "    ps = np.zeros((numcars+maxtransfer+1, numcars+1))\n",
    "    \n",
    "    # r[x]: the expected reward from rentals when starting the day\n",
    "    # with x cars\n",
    "    rs = np.zeros((numcars+maxtransfer+1,))\n",
    "    \n",
    "    # i: the number of cars at the start of the day (this can probably \n",
    "    # be up to numcars + maxtransfer)\n",
    "    for i in range(numcars+maxtransfer+1):\n",
    "        # I can satisfy at most i requests\n",
    "        for requests in range(i+1):\n",
    "            if requests < i:\n",
    "                # The probability of having i requests\n",
    "                prob_requests = scipy.stats.poisson.pmf(requests, l_req)\n",
    "            else:\n",
    "                # For requests >= i the end result is the same (I rent out\n",
    "                # i cars), therefore I sum the probabilities of having\n",
    "                # i or more requests.\n",
    "                prob_requests = (scipy.stats.poisson.pmf(requests, l_req) + \n",
    "                                 1 - scipy.stats.poisson.cdf(requests, l_req))\n",
    "        \n",
    "            # Let's update the expected reward\n",
    "            rs[i] += requests * 10 * prob_requests\n",
    "            \n",
    "            # How many cars I can take in (until the rental place gets full)\n",
    "            # This is negative in case I have more cars than I can keep.\n",
    "            max_returns = numcars - i + requests\n",
    "            if max_returns > 0:\n",
    "                # If there is still some space for cars\n",
    "                \n",
    "                for returns in range(max_returns+1):\n",
    "                    if returns < max_returns:\n",
    "                        # The probability of having this many returns\n",
    "                        prob_returns = scipy.stats.poisson.pmf(returns, l_ret)\n",
    "                    else:\n",
    "                        # The probability of returns >= max_returns\n",
    "                        prob_returns = (scipy.stats.poisson.pmf(returns, l_ret) + \n",
    "                                        1-scipy.stats.poisson.cdf(returns, l_ret))\n",
    "                    \n",
    "                    # The number of cars at the end of the day (before transfers)\n",
    "                    doorclosed = i - requests + returns\n",
    "                    # Let's update the probability of starting the day with i cars \n",
    "                    # and finishing it with doorclosed cars.\n",
    "                    ps[i, doorclosed] += prob_requests * prob_returns\n",
    "            else:\n",
    "                # In case I already have exactly numcars or more at the location, \n",
    "                # I will end up having the location full at the end of the day anyway,\n",
    "                # irrespective of how many returned cars there will be.\n",
    "                ps[i, numcars] += prob_requests * 1\n",
    "                \n",
    "    return ps, rs"
   ]
  },
  {
   "cell_type": "code",
   "execution_count": 4,
   "metadata": {
    "collapsed": false
   },
   "outputs": [],
   "source": [
    "# Probabilities and rewards for the first location\n",
    "ps1, rs1 = probabilities_rewards(3,3, numcars, maxtransfer)\n",
    "# Second location\n",
    "ps2, rs2 = probabilities_rewards(4,2, numcars, maxtransfer)"
   ]
  },
  {
   "cell_type": "markdown",
   "metadata": {},
   "source": [
    "## Policy Evaluation"
   ]
  },
  {
   "cell_type": "code",
   "execution_count": 5,
   "metadata": {
    "collapsed": false
   },
   "outputs": [],
   "source": [
    "def policy_evaluation(V, pi, numcars, ps1, rs1, ps2, rs2, theta):\n",
    "    numiter = 0\n",
    "    while True:\n",
    "        numiter += 1\n",
    "\n",
    "        delta = 0\n",
    "\n",
    "        # Let's iterate over all states (evening, day T, before transfer)\n",
    "        # i: number of cars at the first location\n",
    "        # j: number of cars at the second location\n",
    "        for i, j in itertools.product(range(numcars+1), range(numcars+1)):\n",
    "\n",
    "            # Value at iteration numiter - 1\n",
    "            v = V[i,j]\n",
    "\n",
    "            # Action according to current policy (number of cars moved from\n",
    "            # first location to the second location)\n",
    "            action = pi[i,j]\n",
    "\n",
    "            # Number of cars at both locations the next day (day T+1) in the\n",
    "            # morning after performing action.\n",
    "            nextday = (i-action, j+action)\n",
    "\n",
    "            # Initiate the new value with:\n",
    "            # (the expected reward for the transfers)\n",
    "            # + (the expected reward for the rentals given the number of cars \n",
    "            #    at the start of the day T+1)\n",
    "            new_value = np.abs(action)*(-2) + (rs1[nextday[0]] + rs2[nextday[1]])\n",
    "\n",
    "            # Let's iterate over all states s' (evening, day T+1, before transfer)\n",
    "            for ii, jj in itertools.product(range(numcars+1), range(numcars+1)):\n",
    "                new_value += (ps1[nextday[0],ii]*ps2[nextday[1],jj] \n",
    "                              # probability of s' given s\n",
    "                              * gamma * V[ii,jj])\n",
    "\n",
    "            V[i,j] = new_value\n",
    "            delta = max(delta, np.abs(v - V[i,j]))\n",
    "\n",
    "        #print('Policy evaluation, iteration {}, delta: {}'.format(numiter, delta))\n",
    "        if delta < theta:\n",
    "            break\n",
    "            \n",
    "    return V"
   ]
  },
  {
   "cell_type": "markdown",
   "metadata": {},
   "source": [
    "## Policy improvement"
   ]
  },
  {
   "cell_type": "code",
   "execution_count": 6,
   "metadata": {
    "collapsed": false
   },
   "outputs": [],
   "source": [
    "def policy_improvement(V, pi, numcars, maxtransfer, ps1, rs1, ps2, rs2, theta):\n",
    "    policy_stable = True\n",
    "\n",
    "    # Let's iterate over all states (this is in the evening, day T, before transfer)\n",
    "    for i, j in itertools.product(range(numcars+1), range(numcars+1)):    \n",
    "        # Action from the last iteration\n",
    "        a = pi[i,j]\n",
    "\n",
    "        # The maximum number of cars I can move from location one to two\n",
    "        maxaction = min(maxtransfer, i)\n",
    "        # The maximum number of cars I can move from location two to one\n",
    "        minaction = -min(maxtransfer, j)\n",
    "\n",
    "        # All possible actions\n",
    "        actions = list(range(minaction, maxaction+1))\n",
    "\n",
    "        # Let's calculate q(s,a) for all actions\n",
    "        q = [0] * len(actions)\n",
    "        for action_idx, action in enumerate(actions):\n",
    "            # The number of cars at both locations after preforming the action\n",
    "            # (this is morning, day T+1)\n",
    "            nextday = (i-action, j+action)\n",
    "\n",
    "            # Initiate the action value with the expected reward for rentals\n",
    "            # given the number of cars at both locations in the morning of\n",
    "            # day T+1\n",
    "            q[action_idx] = rs1[nextday[0]] + rs2[nextday[1]] + np.abs(action)*(-2)\n",
    "\n",
    "            # Let's iterate over all s' (evening, day T+1)\n",
    "            for ii, jj in itertools.product(range(numcars+1), range(numcars+1)):\n",
    "                q[action_idx] += (\n",
    "                    ps1[nextday[0],ii]*ps2[nextday[1],jj]\n",
    "                    * (gamma * V[ii,jj])\n",
    "                )\n",
    "\n",
    "        # Pick the action with the highest q(s,a)\n",
    "        pi[i,j] = actions[np.argmax(q)]\n",
    "\n",
    "        if pi[i,j] != a:\n",
    "            policy_stable = False\n",
    "    \n",
    "    return pi, policy_stable"
   ]
  },
  {
   "cell_type": "markdown",
   "metadata": {},
   "source": [
    "## Policy iteration"
   ]
  },
  {
   "cell_type": "code",
   "execution_count": 7,
   "metadata": {
    "collapsed": false
   },
   "outputs": [
    {
     "name": "stdout",
     "output_type": "stream",
     "text": [
      "Policy iteration 0: was policy stable?: False\n",
      "Policy iteration 1: was policy stable?: False\n",
      "Policy iteration 2: was policy stable?: False\n",
      "Policy iteration 3: was policy stable?: False\n"
     ]
    }
   ],
   "source": [
    "theta = 0.000001\n",
    "\n",
    "num_policy_iterations = 4\n",
    "pis = []\n",
    "Vs = []\n",
    "\n",
    "for i in range(num_policy_iterations):\n",
    "    #print(\"POLICY ITERATION {}\".format(i+1))\n",
    "\n",
    "    V = policy_evaluation(V, pi, numcars, ps1, rs1, ps2, rs2, theta)\n",
    "    pi, policy_stable = policy_improvement(V, pi, numcars, \n",
    "                                           maxtransfer, ps1, rs1, ps2, rs2, \n",
    "                                           theta)\n",
    "    \n",
    "    print('Policy iteration {0}: was policy stable?: {1}'.format(i, policy_stable))\n",
    "    pis.append(np.copy(pi))\n",
    "    Vs.append(np.copy(V))"
   ]
  },
  {
   "cell_type": "code",
   "execution_count": 8,
   "metadata": {
    "collapsed": false,
    "scrolled": false
   },
   "outputs": [
    {
     "data": {
      "text/plain": [
       "<matplotlib.text.Text at 0xb2eb5fb550>"
      ]
     },
     "execution_count": 8,
     "metadata": {},
     "output_type": "execute_result"
    },
    {
     "data": {
      "image/png": "[encoded data removed]",
      "text/plain": [
       "<matplotlib.figure.Figure at 0xb2eada9240>"
      ]
     },
     "metadata": {},
     "output_type": "display_data"
    },
    {
     "data": {
      "image/png": "[encoded data removed]",
      "text/plain": [
       "<matplotlib.figure.Figure at 0xb2eb59c8d0>"
      ]
     },
     "metadata": {},
     "output_type": "display_data"
    }
   ],
   "source": [
    "# Plot results\n",
    "\n",
    "# Policies\n",
    "fig1, axarr = plt.subplots(1, num_policy_iterations, figsize=(15, 4))\n",
    "fig1.suptitle(r'$\\pi$', fontsize=24)\n",
    "\n",
    "cmap = plt.cm.jet\n",
    "bounds = np.arange(-4,7,1)\n",
    "norm = mpl.colors.BoundaryNorm(bounds, cmap.N)\n",
    "\n",
    "for i in range(num_policy_iterations):\n",
    "    im = axarr[i].imshow(pis[i], interpolation=\"nearest\", origin='lower', cmap=cmap)\n",
    "    \n",
    "    axarr[i].set_title(\"$\\pi_{}$\".format(i+1), fontsize=24)\n",
    "    if i == 0:\n",
    "        axarr[i].set_ylabel('#cars at first location')\n",
    "        axarr[i].set_xlabel('#cars at second location')\n",
    "\n",
    "fig1.subplots_adjust(right=0.8)\n",
    "cbar_ax = fig1.add_axes([0.85, 0.15, 0.01, 0.7])\n",
    "fig1.colorbar(im, cax=cbar_ax, cmap=cmap)\n",
    "mpl.colorbar.ColorbarBase(cbar_ax, cmap=cmap, norm=norm, spacing='proportional', ticks=bounds, boundaries=bounds, format='%1i')\n",
    "\n",
    "# Value function at the last iteration\n",
    "fig2 = plt.figure()\n",
    "plt.imshow(Vs[-1], interpolation=\"nearest\", origin='lower')\n",
    "plt.colorbar()\n",
    "plt.title('Value function at iteration {}'.format(num_policy_iterations))\n",
    "plt.ylabel('#cars at first location')\n",
    "plt.xlabel('#cars at second location')"
   ]
  }
 ],
 "metadata": {
  "anaconda-cloud": {},
  "kernelspec": {
   "display_name": "Python [default]",
   "language": "python",
   "name": "python3"
  },
  "language_info": {
   "codemirror_mode": {
    "name": "ipython",
    "version": 3
   },
   "file_extension": ".py",
   "mimetype": "text/x-python",
   "name": "python",
   "nbconvert_exporter": "python",
   "pygments_lexer": "ipython3",
   "version": "3.5.2"
  }
 },
 "nbformat": 4,
 "nbformat_minor": 0
}
